{
 "cells": [
  {
   "cell_type": "code",
   "execution_count": null,
   "id": "fe6b434b",
   "metadata": {},
   "outputs": [],
   "source": []
  },
  {
   "cell_type": "code",
   "execution_count": 1,
   "id": "4db0e401",
   "metadata": {},
   "outputs": [],
   "source": [
    "import numpy as np\n",
    "import pandas as pd\n",
    "import matplotlib.pyplot as plt\n",
    "from sklearn.model_selection import train_test_split\n",
    "import pickle"
   ]
  },
  {
   "cell_type": "markdown",
   "id": "a6ce10f3",
   "metadata": {},
   "source": [
    "## データ準備"
   ]
  },
  {
   "cell_type": "markdown",
   "id": "1dcedace",
   "metadata": {},
   "source": [
    "### 訓練データ&検証データの読み込み"
   ]
  },
  {
   "cell_type": "code",
   "execution_count": 2,
   "id": "23808a87",
   "metadata": {},
   "outputs": [],
   "source": [
    "train_data = np.load(\"../1_data/train_data.npy\")\n",
    "train_label = np.load(\"../1_data/train_label.npy\")"
   ]
  },
  {
   "cell_type": "code",
   "execution_count": 3,
   "id": "68c3e0a5-5f01-4c0a-b2ab-f338cf74e3a8",
   "metadata": {},
   "outputs": [],
   "source": [
    "# 正規化\n",
    "train_data = (train_data - train_data.min()) / train_data.max()\n",
    "train_data = train_data.astype('float32')\n",
    "# print(train_data)"
   ]
  },
  {
   "cell_type": "code",
   "execution_count": 4,
   "id": "a3b387f8-ce65-40f8-8c60-f6637dbff14a",
   "metadata": {},
   "outputs": [
    {
     "name": "stdout",
     "output_type": "stream",
     "text": [
      "train_data.shape= (3000, 784)\n"
     ]
    }
   ],
   "source": [
    "# 配列形式変更\n",
    "train_data = train_data.reshape(-1, 28*28)\n",
    "print(\"train_data.shape=\", train_data.shape)"
   ]
  },
  {
   "cell_type": "code",
   "execution_count": 5,
   "id": "592257fb-4e47-4e27-9e2c-49e87a822c73",
   "metadata": {},
   "outputs": [
    {
     "name": "stdout",
     "output_type": "stream",
     "text": [
      "(2100, 784) (900, 784)\n"
     ]
    }
   ],
   "source": [
    "train, valid, y_train, y_valid = train_test_split(train_data, train_label, \n",
    "                                                    test_size=0.3, random_state=1234,\n",
    "                                                    shuffle=True\n",
    "                                                   )\n",
    "\n",
    "print(train.shape, valid.shape)"
   ]
  },
  {
   "cell_type": "code",
   "execution_count": 6,
   "id": "d688109d-725e-4e91-8d76-948fe460e053",
   "metadata": {},
   "outputs": [],
   "source": [
    "# 配列形式変更\n",
    "train = train.reshape(-1, 1, 28, 28)\n",
    "valid = valid.reshape(-1, 1, 28, 28)"
   ]
  },
  {
   "cell_type": "code",
   "execution_count": 7,
   "id": "9077ac40",
   "metadata": {},
   "outputs": [
    {
     "name": "stdout",
     "output_type": "stream",
     "text": [
      "学習用データの形状：(2100, 1, 28, 28)\n",
      "学習用ラベルの形状：(2100, 15)\n",
      "検証用データの形状：(900, 1, 28, 28)\n",
      "検証用ラベルの形状：(900, 15)\n"
     ]
    }
   ],
   "source": [
    "print(f'学習用データの形状：{train.shape}')\n",
    "print(f'学習用ラベルの形状：{y_train.shape}')\n",
    "print(f'検証用データの形状：{valid.shape}')\n",
    "print(f'検証用ラベルの形状：{y_valid.shape}')"
   ]
  },
  {
   "cell_type": "markdown",
   "id": "74d76640",
   "metadata": {},
   "source": [
    "## モデル構築・学習"
   ]
  },
  {
   "cell_type": "code",
   "execution_count": 8,
   "id": "40df5936",
   "metadata": {},
   "outputs": [
    {
     "name": "stderr",
     "output_type": "stream",
     "text": [
      "2022-10-08 10:57:39.034433: I tensorflow/core/platform/cpu_feature_guard.cc:193] This TensorFlow binary is optimized with oneAPI Deep Neural Network Library (oneDNN) to use the following CPU instructions in performance-critical operations:  AVX2 FMA\n",
      "To enable them in other operations, rebuild TensorFlow with the appropriate compiler flags.\n",
      "2022-10-08 10:57:40.068905: W tensorflow/stream_executor/platform/default/dso_loader.cc:64] Could not load dynamic library 'libcudart.so.11.0'; dlerror: libcudart.so.11.0: cannot open shared object file: No such file or directory\n",
      "2022-10-08 10:57:40.068974: I tensorflow/stream_executor/cuda/cudart_stub.cc:29] Ignore above cudart dlerror if you do not have a GPU set up on your machine.\n",
      "2022-10-08 10:57:40.179043: E tensorflow/stream_executor/cuda/cuda_blas.cc:2981] Unable to register cuBLAS factory: Attempting to register factory for plugin cuBLAS when one has already been registered\n",
      "2022-10-08 10:57:42.319706: W tensorflow/stream_executor/platform/default/dso_loader.cc:64] Could not load dynamic library 'libnvinfer.so.7'; dlerror: libnvinfer.so.7: cannot open shared object file: No such file or directory\n",
      "2022-10-08 10:57:42.320211: W tensorflow/stream_executor/platform/default/dso_loader.cc:64] Could not load dynamic library 'libnvinfer_plugin.so.7'; dlerror: libnvinfer_plugin.so.7: cannot open shared object file: No such file or directory\n",
      "2022-10-08 10:57:42.320248: W tensorflow/compiler/tf2tensorrt/utils/py_utils.cc:38] TF-TRT Warning: Cannot dlopen some TensorRT libraries. If you would like to use Nvidia GPU with TensorRT, please make sure the missing libraries mentioned above are installed properly.\n"
     ]
    }
   ],
   "source": [
    "from common.deep_convnet import DeepConvNet\n",
    "from common.trainer_onlineaugmented import Trainer\n"
   ]
  },
  {
   "cell_type": "code",
   "execution_count": 9,
   "id": "7a955b93",
   "metadata": {},
   "outputs": [],
   "source": [
    "# sampled = 200 # 高速化のため\n",
    "# train = train[:sampled]\n",
    "# y_train = y_train[:sampled]"
   ]
  },
  {
   "cell_type": "code",
   "execution_count": 10,
   "id": "0c02262f",
   "metadata": {},
   "outputs": [
    {
     "name": "stdout",
     "output_type": "stream",
     "text": [
      "訓練データをセット\n",
      "trainのshape：(2100, 1, 28, 28)\n",
      "y_trainのshape：(2100, 15)\n"
     ]
    }
   ],
   "source": [
    "print(\"訓練データをセット\")\n",
    "print(f'trainのshape：{train.shape}')\n",
    "print(f'y_trainのshape：{y_train.shape}')"
   ]
  },
  {
   "cell_type": "code",
   "execution_count": null,
   "id": "0d970b90",
   "metadata": {},
   "outputs": [],
   "source": []
  },
  {
   "cell_type": "code",
   "execution_count": 11,
   "id": "88fc08b1",
   "metadata": {},
   "outputs": [
    {
     "name": "stdout",
     "output_type": "stream",
     "text": [
      "ネットワーク生成完了\n"
     ]
    }
   ],
   "source": [
    "# ネットワーク生成（モデル構築）\n",
    "network = DeepConvNet()  \n",
    "print(\"ネットワーク生成完了\")\n"
   ]
  },
  {
   "cell_type": "code",
   "execution_count": 12,
   "id": "7106c37b-1ddb-4a13-bf1a-2ad79a110cf0",
   "metadata": {},
   "outputs": [],
   "source": [
    "aug_param = {\n",
    "    'zoom_range': [0.7, 1.3],\n",
    "    'rotation_range': 40,\n",
    "    # 'vertical_flip': True,\n",
    "    # 'horizontal_flip': True,\n",
    "    'height_shift_range': 0.1,\n",
    "    'width_shift_range': 0.1,\n",
    "    'shear_range': 40,\n",
    "    # 'channel_shift_range': 127\n",
    "}\n",
    "add_image_num = 420"
   ]
  },
  {
   "cell_type": "code",
   "execution_count": null,
   "id": "34f3c048",
   "metadata": {
    "tags": []
   },
   "outputs": [
    {
     "name": "stdout",
     "output_type": "stream",
     "text": [
      "Trainerクラスのインスタンスが無事生成されました\n",
      "optimizer:<common.optimizer.RMSprop object at 0x7fef1822cb20>\n",
      "総iter数：20 = エポック数：4, ミニバッチ数：5.0\n",
      "進捗：0.0%, 訓練データの誤差：14.5\n",
      "==epoch:1, train_acc:0.06, test_acc:0.0756==\n",
      "進捗：5.0%, 訓練データの誤差：2.71\n",
      "進捗：10.0%, 訓練データの誤差：2.71\n",
      "進捗：15.0%, 訓練データの誤差：2.72\n",
      "進捗：20.0%, 訓練データの誤差：2.71\n",
      "進捗：25.0%, 訓練データの誤差：2.71\n",
      "==epoch:2, train_acc:0.076, test_acc:0.06==\n",
      "進捗：30.0%, 訓練データの誤差：2.7\n",
      "進捗：35.0%, 訓練データの誤差：2.7\n",
      "進捗：40.0%, 訓練データの誤差：2.71\n",
      "進捗：45.0%, 訓練データの誤差：2.71\n",
      "進捗：50.0%, 訓練データの誤差：2.7\n",
      "==epoch:3, train_acc:0.089, test_acc:0.0756==\n",
      "進捗：55.0%, 訓練データの誤差：2.7\n",
      "進捗：60.0%, 訓練データの誤差：2.7\n",
      "進捗：65.0%, 訓練データの誤差：2.69\n",
      "進捗：70.0%, 訓練データの誤差：2.7\n",
      "進捗：75.0%, 訓練データの誤差：2.96\n",
      "==epoch:4, train_acc:0.113, test_acc:0.0844==\n",
      "進捗：80.0%, 訓練データの誤差：2.7\n"
     ]
    }
   ],
   "source": [
    "# 学習\n",
    "trainer = Trainer(network, train, y_train, valid, y_valid,\n",
    "                  aug_param, add_image_num, \n",
    "                  epochs=4, mini_batch_size=420, \n",
    "                  optimizer='RMSprop', optimizer_param={'lr':0.01, 'decay_rate':0.9},\n",
    "                  evaluate_sample_num_per_epoch=1000)\n",
    "\n",
    "# trainer = Trainer(network, train, y_train, valid, y_valid,\n",
    "#                   epochs=20, mini_batch_size=100,\n",
    "#                   optimizer='Adam', optimizer_param={'lr':0.001},\n",
    "#                   evaluate_sample_num_per_epoch=1000)\n",
    "\n",
    "trainer.train()"
   ]
  },
  {
   "cell_type": "code",
   "execution_count": 30,
   "id": "f63735b7",
   "metadata": {},
   "outputs": [],
   "source": [
    "train_acc = trainer.train_acc_list\n",
    "train_loss = trainer.train_loss_list\n",
    "valid_acc = trainer.test_acc_list"
   ]
  },
  {
   "cell_type": "code",
   "execution_count": 31,
   "id": "3689c74a",
   "metadata": {},
   "outputs": [
    {
     "name": "stdout",
     "output_type": "stream",
     "text": [
      "80\n",
      "80\n",
      "80\n"
     ]
    }
   ],
   "source": [
    "print(len(train_acc))\n",
    "print(len(train_loss))\n",
    "print(len(valid_acc))"
   ]
  },
  {
   "cell_type": "code",
   "execution_count": 32,
   "id": "2fdc820e",
   "metadata": {},
   "outputs": [
    {
     "data": {
      "image/png": "[encoded data removed]",
      "text/plain": [
       "<Figure size 640x480 with 1 Axes>"
      ]
     },
     "metadata": {},
     "output_type": "display_data"
    }
   ],
   "source": [
    "# lossとaccuracyのグラフ化\n",
    "df_log = pd.DataFrame({\"train_loss\":train_loss,\n",
    "             # \"valid_loss\":valid_loss,\n",
    "             \"train_acc\":train_acc,\n",
    "             \"valid_acc\":valid_acc})\n",
    "\n",
    "df_log.plot(style=['r-', 'b-', 'b--'])\n",
    "plt.ylim([0,3])\n",
    "plt.ylabel(\"Accuracy or loss\")\n",
    "plt.xlabel(\"epochs\")\n",
    "plt.show()"
   ]
  },
  {
   "cell_type": "markdown",
   "id": "61ef4865",
   "metadata": {},
   "source": [
    "### 学習済みモデルの出力"
   ]
  },
  {
   "cell_type": "code",
   "execution_count": 33,
   "id": "8d1c2ca0",
   "metadata": {},
   "outputs": [],
   "source": [
    "# with open(\"katakana_model.pickle\", \"wb\") as f:\n",
    "#     pickle.dump(tnet, f)"
   ]
  },
  {
   "cell_type": "code",
   "execution_count": 35,
   "id": "ea5637e9",
   "metadata": {},
   "outputs": [
    {
     "name": "stdout",
     "output_type": "stream",
     "text": [
      "Saved Network Parameters!\n"
     ]
    }
   ],
   "source": [
    "network.save_params(\"katakana_model.pickle\")\n",
    "print(\"Saved Network Parameters!\")"
   ]
  },
  {
   "cell_type": "code",
   "execution_count": null,
   "id": "304b5464-1d07-4bc4-9e15-3d7b85049d28",
   "metadata": {},
   "outputs": [],
   "source": []
  }
 ],
 "metadata": {
  "kernelspec": {
   "display_name": "Python 3 (ipykernel)",
   "language": "python",
   "name": "python3"
  },
  "language_info": {
   "codemirror_mode": {
    "name": "ipython",
    "version": 3
   },
   "file_extension": ".py",
   "mimetype": "text/x-python",
   "name": "python",
   "nbconvert_exporter": "python",
   "pygments_lexer": "ipython3",
   "version": "3.10.6"
  }
 },
 "nbformat": 4,
 "nbformat_minor": 5
}
